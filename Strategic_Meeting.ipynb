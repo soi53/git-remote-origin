{
  "nbformat": 4,
  "nbformat_minor": 0,
  "metadata": {
    "colab": {
      "provenance": [],
      "authorship_tag": "ABX9TyMiMP6E54V0bFEjbUJUccf5",
      "include_colab_link": true
    },
    "kernelspec": {
      "name": "python3",
      "display_name": "Python 3"
    },
    "language_info": {
      "name": "python"
    }
  },
  "cells": [
    {
      "cell_type": "markdown",
      "metadata": {
        "id": "view-in-github",
        "colab_type": "text"
      },
      "source": [
        "<a href=\"https://colab.research.google.com/github/soi53/git-remote-origin/blob/main/Strategic_Meeting.ipynb\" target=\"_parent\"><img src=\"https://colab.research.google.com/assets/colab-badge.svg\" alt=\"Open In Colab\"/></a>"
      ]
    },
    {
      "cell_type": "code",
      "source": [
        "#Libraries Install\n",
        "!pip install PyPDF2"
      ],
      "metadata": {
        "colab": {
          "base_uri": "https://localhost:8080/"
        },
        "id": "NH6hb9f1NBOz",
        "outputId": "4b53d2fa-338f-4ba8-b3d8-65a6f87f93b4"
      },
      "execution_count": 13,
      "outputs": [
        {
          "output_type": "stream",
          "name": "stdout",
          "text": [
            "Requirement already satisfied: PyPDF2 in /usr/local/lib/python3.10/dist-packages (3.0.1)\n"
          ]
        }
      ]
    },
    {
      "cell_type": "code",
      "execution_count": 14,
      "metadata": {
        "id": "UzwYOu-TA-g8"
      },
      "outputs": [],
      "source": [
        "#Libraries Import\n",
        "\n",
        "import os\n",
        "import PyPDF2\n",
        "from PyPDF2 import PdfReader, PdfWriter, PdfMerger"
      ]
    },
    {
      "cell_type": "code",
      "source": [
        "# Pdf files container\n",
        "pdfFiles = []\n",
        "\n",
        "for root, dirs, filenames in os.walk(os.getcwd()): #os.getcwd -> 현재 경로를 반환\n",
        "    for filename in filenames:\n",
        "        if filename.lower().endswith('.pdf'):\n",
        "            pdfFiles.append(os.path.join(root,filename))"
      ],
      "metadata": {
        "id": "FfdhbcPABuX5"
      },
      "execution_count": 15,
      "outputs": []
    },
    {
      "cell_type": "code",
      "source": [
        "#Sorting the files with lower case\n",
        "pdfFiles.sort(key=str.lower)"
      ],
      "metadata": {
        "id": "OSB1EITdSH5I"
      },
      "execution_count": 16,
      "outputs": []
    },
    {
      "cell_type": "code",
      "source": [
        "#Assigning the pdfWriter() function to pdfWriter\n",
        "pdfWriter = PyPDF2.PdfWriter()"
      ],
      "metadata": {
        "id": "5cGcH9QPTIkb"
      },
      "execution_count": 17,
      "outputs": []
    },
    {
      "cell_type": "code",
      "source": [
        "pdfFiles"
      ],
      "metadata": {
        "colab": {
          "base_uri": "https://localhost:8080/"
        },
        "id": "6gIvDsWHTSnh",
        "outputId": "be4d0844-4f17-4797-9ed7-d919a16f5e68"
      },
      "execution_count": 18,
      "outputs": [
        {
          "output_type": "execute_result",
          "data": {
            "text/plain": [
              "[]"
            ]
          },
          "metadata": {},
          "execution_count": 18
        }
      ]
    },
    {
      "cell_type": "code",
      "source": [
        "for filename in pdfFiles:\n",
        "    pdfFileObj = open(filename,'rb')\n",
        "    pdfReader = PyPDF2.PdfReader(pdfFileObj)\n",
        "    pageObj = pdfReader.pages[pageNum]\n",
        "    pdfWriter.add_page(pageObj)\n"
      ],
      "metadata": {
        "id": "jQV0DFpXTcyV"
      },
      "execution_count": 19,
      "outputs": []
    },
    {
      "cell_type": "code",
      "source": [
        "# Name of the PDF file can be written here.\n",
        "\n",
        "pdfOutput = open(\"KR Meeting.pdf\", 'wb')\n",
        "\n",
        "#Writing the output file using the pdfWriter function.\n",
        "pdfWriter.write(pdfOutput)\n",
        "pdfOutput.close()"
      ],
      "metadata": {
        "id": "AEFOD0qpmY34"
      },
      "execution_count": 21,
      "outputs": []
    },
    {
      "cell_type": "code",
      "source": [],
      "metadata": {
        "id": "Y-KZhxBI1PMk"
      },
      "execution_count": null,
      "outputs": []
    }
  ]
}