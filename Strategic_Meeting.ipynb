{
  "nbformat": 4,
  "nbformat_minor": 0,
  "metadata": {
    "colab": {
      "provenance": [],
      "authorship_tag": "ABX9TyNtKtY397g7RlW35IZ1Z5Ci",
      "include_colab_link": true
    },
    "kernelspec": {
      "name": "python3",
      "display_name": "Python 3"
    },
    "language_info": {
      "name": "python"
    }
  },
  "cells": [
    {
      "cell_type": "markdown",
      "metadata": {
        "id": "view-in-github",
        "colab_type": "text"
      },
      "source": [
        "<a href=\"https://colab.research.google.com/github/soi53/git-remote-origin/blob/main/Strategic_Meeting.ipynb\" target=\"_parent\"><img src=\"https://colab.research.google.com/assets/colab-badge.svg\" alt=\"Open In Colab\"/></a>"
      ]
    },
    {
      "cell_type": "code",
      "source": [
        "#Libraries Install\n",
        "!pip install PyPDF2"
      ],
      "metadata": {
        "colab": {
          "base_uri": "https://localhost:8080/"
        },
        "id": "NH6hb9f1NBOz",
        "outputId": "4b53d2fa-338f-4ba8-b3d8-65a6f87f93b4"
      },
      "execution_count": 13,
      "outputs": [
        {
          "output_type": "stream",
          "name": "stdout",
          "text": [
            "Requirement already satisfied: PyPDF2 in /usr/local/lib/python3.10/dist-packages (3.0.1)\n"
          ]
        }
      ]
    },
    {
      "cell_type": "code",
      "execution_count": 14,
      "metadata": {
        "id": "UzwYOu-TA-g8"
      },
      "outputs": [],
      "source": [
        "#Libraries Import\n",
        "\n",
        "import os\n",
        "import PyPDF2\n",
        "from PyPDF2 import PdfReader, PdfWriter, PdfMerger"
      ]
    },
    {
      "cell_type": "code",
      "source": [
        "# Pdf files container\n",
        "pdfFiles = []\n",
        "\n",
        "for root, dirs, filenames in os.walk(os.getcwd()): #os.getcwd -> 현재 경로를 반환\n",
        "    for filename in filenames:\n",
        "        if filename.lower().endswith('.pdf'):\n",
        "            pdfFiles.append(os.path.join(root,filename))"
      ],
      "metadata": {
        "id": "FfdhbcPABuX5"
      },
      "execution_count": 15,
      "outputs": []
    },
    {
      "cell_type": "code",
      "source": [
        "#Sorting the files with lower case\n",
        "pdfFiles.sort(key=str.lower)"
      ],
      "metadata": {
        "id": "OSB1EITdSH5I"
      },
      "execution_count": 16,
      "outputs": []
    },
    {
      "cell_type": "code",
      "source": [
        "#Assigning the pdfWriter() function to pdfWriter\n",
        "pdfWriter = PyPDF2.PdfWriter()"
      ],
      "metadata": {
        "id": "5cGcH9QPTIkb"
      },
      "execution_count": 17,
      "outputs": []
    },
    {
      "cell_type": "code",
      "source": [
        "pdfFiles"
      ],
      "metadata": {
        "colab": {
          "base_uri": "https://localhost:8080/"
        },
        "id": "6gIvDsWHTSnh",
        "outputId": "be4d0844-4f17-4797-9ed7-d919a16f5e68"
      },
      "execution_count": 18,
      "outputs": [
        {
          "output_type": "execute_result",
          "data": {
            "text/plain": [
              "[]"
            ]
          },
          "metadata": {},
          "execution_count": 18
        }
      ]
    },
    {
      "cell_type": "code",
      "source": [
        "for filename in pdfFiles:\n",
        "    pdfFileObj = open(filename,'rb')\n",
        "    pdfReader = PyPDF2.PdfReader(pdfFileObj)\n",
        "    pageObj = pdfReader.pages[pageNum]\n",
        "    pdfWriter.add_page(pageObj)\n"
      ],
      "metadata": {
        "id": "jQV0DFpXTcyV"
      },
      "execution_count": 19,
      "outputs": []
    },
    {
      "cell_type": "code",
      "source": [
        "# Name of the PDF file can be written here.\n",
        "\n",
        "pdfOutput = open(\"KR Meeting.pdf\", 'wb')\n",
        "\n",
        "#Writing the output file using the pdfWriter function.\n",
        "pdfWriter.write(pdfOutput)\n",
        "pdfOutput.close()"
      ],
      "metadata": {
        "id": "AEFOD0qpmY34"
      },
      "execution_count": 21,
      "outputs": []
    },
    {
      "cell_type": "markdown",
      "source": [
        "Version #2 Simplified"
      ],
      "metadata": {
        "id": "ntCFclEBQgL8"
      }
    },
    {
      "cell_type": "code",
      "source": [
        "import PyPDF2\n",
        "from reportlab.lib.pagesizes import A4  # letter 대신 A4로 변경\n",
        "from reportlab.pdfgen import canvas\n",
        "from io import BytesIO\n",
        "\n",
        "def merge_pdfs_with_numbers(pdf_list, output_path):\n",
        "    pdf_writer = PyPDF2.PdfWriter()\n",
        "\n",
        "    for pdf_path in pdf_list:\n",
        "        pdf_reader = PyPDF2.PdfReader(pdf_path)\n",
        "\n",
        "        for page in pdf_reader.pages:\n",
        "            packet = BytesIO()\n",
        "            c = canvas.Canvas(packet, pagesize=A4)  # letter 대신 A4로 변경\n",
        "            c.setFont(\"Helvetica\", 10)\n",
        "            c.drawString(500, 10, f\"Page {pdf_writer.get_number_of_pages() + 1}\")\n",
        "            c.save()\n",
        "            packet.seek(0)\n",
        "            number_pdf = PyPDF2.PdfReader(packet)\n",
        "            page.merge_page(number_pdf.pages[0])\n",
        "\n",
        "            pdf_writer.add_page(page)\n",
        "\n",
        "            if pdf_path != pdf_list[-1]:\n",
        "                blank_page = PyPDF2.pdf.PageObject.create_blank_page(\n",
        "                    None, A4[0], A4[1])  # letter 대신 A4로 변경\n",
        "                pdf_writer.add_page(blank_page)\n",
        "\n",
        "    with open(output_path, \"wb\") as output_file:\n",
        "        pdf_writer.write(output_file)\n",
        "    print(f\"PDF 병합 완료: {output_path}\")\n",
        "\n",
        "# 실행\n",
        "pdf_files = ['pdf1.pdf', 'pdf2.pdf', 'pdf3.pdf']\n",
        "merge_pdfs_with_numbers(pdf_files, 'final_output.pdf')"
      ],
      "metadata": {
        "colab": {
          "base_uri": "https://localhost:8080/",
          "height": 388
        },
        "id": "Y-KZhxBI1PMk",
        "outputId": "85597f3b-4485-4dfe-f9a1-0e1e74dd377c"
      },
      "execution_count": 22,
      "outputs": [
        {
          "output_type": "error",
          "ename": "ModuleNotFoundError",
          "evalue": "No module named 'reportlab'",
          "traceback": [
            "\u001b[0;31m---------------------------------------------------------------------------\u001b[0m",
            "\u001b[0;31mModuleNotFoundError\u001b[0m                       Traceback (most recent call last)",
            "\u001b[0;32m<ipython-input-22-7a267f55502b>\u001b[0m in \u001b[0;36m<cell line: 2>\u001b[0;34m()\u001b[0m\n\u001b[1;32m      1\u001b[0m \u001b[0;32mimport\u001b[0m \u001b[0mPyPDF2\u001b[0m\u001b[0;34m\u001b[0m\u001b[0;34m\u001b[0m\u001b[0m\n\u001b[0;32m----> 2\u001b[0;31m \u001b[0;32mfrom\u001b[0m \u001b[0mreportlab\u001b[0m\u001b[0;34m.\u001b[0m\u001b[0mlib\u001b[0m\u001b[0;34m.\u001b[0m\u001b[0mpagesizes\u001b[0m \u001b[0;32mimport\u001b[0m \u001b[0mA4\u001b[0m  \u001b[0;31m# letter 대신 A4로 변경\u001b[0m\u001b[0;34m\u001b[0m\u001b[0;34m\u001b[0m\u001b[0m\n\u001b[0m\u001b[1;32m      3\u001b[0m \u001b[0;32mfrom\u001b[0m \u001b[0mreportlab\u001b[0m\u001b[0;34m.\u001b[0m\u001b[0mpdfgen\u001b[0m \u001b[0;32mimport\u001b[0m \u001b[0mcanvas\u001b[0m\u001b[0;34m\u001b[0m\u001b[0;34m\u001b[0m\u001b[0m\n\u001b[1;32m      4\u001b[0m \u001b[0;32mfrom\u001b[0m \u001b[0mio\u001b[0m \u001b[0;32mimport\u001b[0m \u001b[0mBytesIO\u001b[0m\u001b[0;34m\u001b[0m\u001b[0;34m\u001b[0m\u001b[0m\n\u001b[1;32m      5\u001b[0m \u001b[0;34m\u001b[0m\u001b[0m\n",
            "\u001b[0;31mModuleNotFoundError\u001b[0m: No module named 'reportlab'",
            "",
            "\u001b[0;31m---------------------------------------------------------------------------\u001b[0;32m\nNOTE: If your import is failing due to a missing package, you can\nmanually install dependencies using either !pip or !apt.\n\nTo view examples of installing some common dependencies, click the\n\"Open Examples\" button below.\n\u001b[0;31m---------------------------------------------------------------------------\u001b[0m\n"
          ],
          "errorDetails": {
            "actions": [
              {
                "action": "open_url",
                "actionText": "Open Examples",
                "url": "/notebooks/snippets/importing_libraries.ipynb"
              }
            ]
          }
        }
      ]
    },
    {
      "cell_type": "code",
      "source": [],
      "metadata": {
        "id": "5kX9Qb_ZQlMS"
      },
      "execution_count": null,
      "outputs": []
    }
  ]
}